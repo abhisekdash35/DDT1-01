{
 "cells": [
  {
   "cell_type": "markdown",
   "metadata": {},
   "source": [
    "#### This notebook converts the smiles of (not blinded) compounds in smiles.pdf file to sdf file using rdkit.\n",
    "#### The created sdf file is saved in sdf/train_and_test_molecules.sdf. \n",
    "#### After creating sdf files the file is passed to Padel (separate software) to generate topological molecular descriptors for training and test compounds.\n",
    "#### The resulting molecular descriptors file is available in molecular_descriptors_csv/molecular_descriptors_with_pIC50_values.csv"
   ]
  },
  {
   "cell_type": "code",
   "execution_count": 1,
   "metadata": {},
   "outputs": [],
   "source": [
    "from rdkit import Chem\n",
    "from rdkit.Chem import AllChem\n",
    "from rdkit import DataStructs\n",
    "import tabula\n",
    "import random\n",
    "import itertools as it\n",
    "import sys\n",
    "import numpy as np\n",
    "from rdkit.Chem import PandasTools"
   ]
  },
  {
   "cell_type": "code",
   "execution_count": 2,
   "metadata": {},
   "outputs": [],
   "source": [
    "pdf_path = \"smiles.pdf\"\n",
    "data_df = tabula.read_pdf(pdf_path,pages=\"all\")\n",
    "# Pick compounds other than blinded\n",
    "blinded_data = data_df[data_df['pIC50 (IC50 in microM)'] != 'BLINDED']"
   ]
  },
  {
   "cell_type": "code",
   "execution_count": 3,
   "metadata": {},
   "outputs": [],
   "source": [
    "# Smiles to sdf\n",
    "mols = []\n",
    "def create_sdf(sdf_file_path):\n",
    "    w = Chem.SDWriter(sdf_file_path)\n",
    "    for index, row in blinded_data.iterrows():\n",
    "        m = Chem.MolFromSmiles(row['SMILES'])\n",
    "        m.SetProp(\"_Name\",row['SMILES'])\n",
    "        mols.append(m)\n",
    "    for m in mols: w.write(m)\n",
    "    return\n",
    "# Save sdf file in sdf/train_and_test_molecules.sdf\n",
    "sdf_file_path = 'sdf/train_and_test_molecules.sdf'\n",
    "create_sdf(sdf_file_path)"
   ]
  }
 ],
 "metadata": {
  "kernelspec": {
   "display_name": "Python 3",
   "language": "python",
   "name": "python3"
  },
  "language_info": {
   "codemirror_mode": {
    "name": "ipython",
    "version": 3
   },
   "file_extension": ".py",
   "mimetype": "text/x-python",
   "name": "python",
   "nbconvert_exporter": "python",
   "pygments_lexer": "ipython3",
   "version": "3.7.7"
  }
 },
 "nbformat": 4,
 "nbformat_minor": 4
}
